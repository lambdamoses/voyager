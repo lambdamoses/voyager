{
 "cells": [
  {
   "cell_type": "raw",
   "id": "50991677",
   "metadata": {},
   "source": [
    "---\n",
    "title: \"Create a SpatialFeatureExperiment object\"\n",
    "author: \"Lambda Moses\"\n",
    "date: \"`r Sys.Date()`\"\n",
    "output: \n",
    "  html_document:\n",
    "  toc: true\n",
    "  toc_float:\n",
    "    collapsed: false\n",
    "  toc_depth: 3\n",
    "vignette: >\n",
    "  %\\VignetteIndexEntry{create_sfe}\n",
    "  %\\VignetteEngine{knitr::rmarkdown}\n",
    "  %\\VignetteEncoding{UTF-8}\n",
    "---"
   ]
  },
  {
   "cell_type": "code",
   "execution_count": null,
   "id": "2b369f33",
   "metadata": {
    "tags": [
     "remove_cell"
    ]
   },
   "outputs": [],
   "source": [
    "knitr::opts_chunk$set(\n",
    "  collapse = TRUE,\n",
    "  comment = \"#>\"\n",
    ")"
   ]
  },
  {
   "cell_type": "code",
   "execution_count": null,
   "id": "e6f379a4",
   "metadata": {
    "eval": false,
    "tags": [
     "remove_cell"
    ]
   },
   "outputs": [],
   "source": [
    "# Install Google Colab dependencies\n",
    "# Note: this can take 30+ minutes (many of the dependencies include C++ code, which needs to be compiled)\n",
    "\n",
    "# First install `sf`, `ragg` and `textshaping` and their system dependencies:\n",
    "system(\"apt-get -y update && apt-get install -y  libudunits2-dev libgdal-dev libgeos-dev libproj-dev libharfbuzz-dev libfribidi-dev\")\n",
    "install.packages(\"sf\")\n",
    "install.packages(\"textshaping\")\n",
    "install.packages(\"ragg\")\n",
    "\n",
    "# Install system dependencies of some other R packages that Voyager either imports or suggests:\n",
    "system(\"apt-get install -y libfribidi-dev libcairo2-dev libmagick++-dev\")\n",
    "\n",
    "# Install Voyager from Bioconductor:\n",
    "install.packages(\"BiocManager\")\n",
    "BiocManager::install(version = \"release\", ask = FALSE, update = FALSE, Ncpus = 2)\n",
    "BiocManager::install(\"scater\")\n",
    "system.time(\n",
    "  BiocManager::install(\"Voyager\", dependencies = TRUE, Ncpus = 2, update = FALSE)\n",
    ")\n",
    "\n",
    "# Additional dependencies for this notebook\n",
    "#install.packages(\"arrow\")\n",
    "\n",
    "packageVersion(\"Voyager\")"
   ]
  },
  {
   "cell_type": "code",
   "execution_count": null,
   "id": "f57ba07d",
   "metadata": {
    "lines_to_next_cell": 0,
    "message": false,
    "name": "setup"
   },
   "outputs": [],
   "source": [
    "library(Voyager)\n",
    "library(SpatialFeatureExperiment)\n",
    "library(rjson)\n",
    "library(Matrix)\n",
    "library(SFEData)\n",
    "library(RBioFormats)"
   ]
  },
  {
   "cell_type": "markdown",
   "id": "46df91cf",
   "metadata": {},
   "source": [
    "The following is reproduced from the [SFE vignette](https://pachterlab.github.io/SpatialFeatureExperiment/articles/SFE.html#object-construction).\n",
    "\n",
    "# Visium Space Ranger output\n",
    "\n",
    "10x Genomics Space Ranger output from a Visium experiment can be read in a similar manner as in `SpatialExperiment`; the `SpatialFeatureExperiment` SFE object has the `spotPoly` column geometry for the spot polygons. If the filtered matrix (i.e. only spots in the tissue) is read in, then a column graph called `visium` will also be present for the spatial neighborhood graph of the Visium spots on the tissue. The graph is not computed if all spots are read in regardless of whether they are on tissue."
   ]
  },
  {
   "cell_type": "code",
   "execution_count": null,
   "id": "16075dd5",
   "metadata": {},
   "outputs": [],
   "source": [
    "dir <- system.file(\"extdata\", package = \"SpatialFeatureExperiment\")\n",
    "sample_ids <- c(\"sample01\", \"sample02\")\n",
    "(samples <- file.path(dir, sample_ids, \"outs\"))"
   ]
  },
  {
   "cell_type": "markdown",
   "id": "b4a34093",
   "metadata": {},
   "source": [
    "The results for each tissue capture should be in the `outs` directory. Inside the `outs` directory there are two directories: `raw_reature_bc_matrix` has the unfiltered gene count matrix, and `spatial` has the spatial information. "
   ]
  },
  {
   "cell_type": "code",
   "execution_count": null,
   "id": "faafd6c0",
   "metadata": {},
   "outputs": [],
   "source": [
    "list.files(samples[1])"
   ]
  },
  {
   "cell_type": "markdown",
   "id": "0bacfd0d",
   "metadata": {},
   "source": [
    "The [`DropletUtils`](https://bioconductor.org/packages/release/bioc/html/DropletUtils.html) package has a function `read10xCounts()` which reads the gene count matrix. SPE reads in the spatial information, and SFE uses the spatial information to construct Visium spot polygons and spatial neighborhood graphs. Inside the `spatial` directory:"
   ]
  },
  {
   "cell_type": "code",
   "execution_count": null,
   "id": "20a6e2ff",
   "metadata": {},
   "outputs": [],
   "source": [
    "list.files(file.path(samples[1], \"spatial\"))"
   ]
  },
  {
   "cell_type": "markdown",
   "id": "f215223e",
   "metadata": {},
   "source": [
    "`tissue_lowres_image.png` is a low resolution image of the tissue.\n",
    "\n",
    "Inside the `scalefactors_json.json` file:"
   ]
  },
  {
   "cell_type": "code",
   "execution_count": null,
   "id": "61cf0762",
   "metadata": {},
   "outputs": [],
   "source": [
    "fromJSON(file = file.path(samples[1], \"spatial\", \"scalefactors_json.json\"))"
   ]
  },
  {
   "cell_type": "markdown",
   "id": "c08926c2",
   "metadata": {},
   "source": [
    "`spot_diameter_fullres` is the diameter of each Visium spot in the full resolution H&E image in pixels. `tissue_hires_scalef` and `tissue_lowres_scalef` are the ratio of the size of the high resolution (but not full resolution) and low resolution H&E image to the full resolution image. `fiducial_diameter_fullres` is the diameter of each fiducial spot used to align the spots to the H&E image in pixels in the full resolution image.\n",
    "\n",
    "The `tissue_positions_list.csv` file contains information for the spatial coordinates of the spots and whether each spot is in tissue as automatically detected by Space Ranger or manually annotated in the Loupe browser. If the polygon of the tissue boundary is available, whether from image processing or manual annotation, geometric operations as supported by the SFE package, which is based on the `sf` package, can be used to find which spots intersect with the tissue and which spots are contained in the tissue. Geometric operations can also find the polygons of the intersections between spots and the tissue, but the results can get messy since the intersections can have not only polygons but also points and lines. \n",
    "\n",
    "Now we read in the toy data that is in the Space Ranger output format. Since Bioconductor version release (Voyager version 1.2.0), the image is read as a `SpatRaster` object with the [`terra`](https://rspatial.github.io/terra/index.html) package, so it is not loaded into memory unless necessary. When plotting a large image, it will be downsampled and thus not fully loaded into memory. The unit can be set with the `unit` argument, and can be either pixels in full resolution image or microns. The latter is calculated from the former based on spacing between spots, which is known to be 100 microns."
   ]
  },
  {
   "cell_type": "code",
   "execution_count": null,
   "id": "30d7ccb9",
   "metadata": {},
   "outputs": [],
   "source": [
    "(sfe3 <- read10xVisiumSFE(samples, dirs = samples, sample_id = sample_ids, \n",
    "                          type = \"sparse\", data = \"filtered\", images = \"lowres\", \n",
    "                          unit = \"full_res_image_pixel\"))"
   ]
  },
  {
   "cell_type": "markdown",
   "id": "68399d0f",
   "metadata": {},
   "source": [
    "Space Ranger output includes the gene count matrix, spot coordinates, and spot diameter. The Space Ranger output does NOT include nuclei segmentation or pathologist annotation of histological regions. Extra image processing, such as with ImageJ and QuPath, are required for those geometries.\n",
    "\n",
    "# Vizgen MERFISH output\n",
    "The commercialized MERFISH from Vizgen has a standard output format, that can be read into SFE with `readVizgen()`. Because the cell segmentation from each field of view (FOV) has a separate HDF5 file and a MERFISH dataset can have hundreds of FOVs, we strongly recommend reading the MERFISH output on a server with a large number of CPU cores. Alternatively, some but not all MERFISH datasets store cell segmentation in a `parquet` file, which can be more easily read into R. This requires the installation of `arrow`. Here we read a toy dataset which is the first FOV from a real dataset:"
   ]
  },
  {
   "cell_type": "code",
   "execution_count": null,
   "id": "a2519a41",
   "metadata": {},
   "outputs": [],
   "source": [
    "fp <- tempdir()\n",
    "dir_use <- VizgenOutput(file_path = file.path(fp, \"vizgen\"))\n",
    "list.files(dir_use)"
   ]
  },
  {
   "cell_type": "markdown",
   "id": "5a04ecc8",
   "metadata": {
    "lines_to_next_cell": 0
   },
   "source": [
    "The optional `add_molecules` argument can be set to `TRUE` to read in the transcript spots"
   ]
  },
  {
   "cell_type": "code",
   "execution_count": null,
   "id": "4e0e7e9e",
   "metadata": {},
   "outputs": [],
   "source": [
    "(sfe_mer <- readVizgen(dir_use, z = 3L, image = \"PolyT\", add_molecules = TRUE))"
   ]
  },
  {
   "cell_type": "markdown",
   "id": "d41aff2f",
   "metadata": {
    "lines_to_next_cell": 0
   },
   "source": [
    "The unit is always in microns. To make it easier and faster to read the data next time, the processed cell segmentation geometries and transcript spots are written to the same directory where the data resides:"
   ]
  },
  {
   "cell_type": "code",
   "execution_count": null,
   "id": "a09e5b8d",
   "metadata": {},
   "outputs": [],
   "source": [
    "list.files(dir_use)"
   ]
  },
  {
   "cell_type": "markdown",
   "id": "ca9dc000",
   "metadata": {},
   "source": [
    "# 10X Xenium output\n",
    "SFE supports reading the output from Xenium Onboarding Analysis (XOA) v1 and v2 with the function `readXenium()`. Especially for XOA v2, `arrow` is strongly recommended. The cell and nuclei polygon vertices and transcript spot coordinates are in `parquet` files  Similar to `readVizgen()`, `readXenium()` makes `sf` data frames from the vertices and transcript spots and saves them as GeoParquet files."
   ]
  },
  {
   "cell_type": "code",
   "execution_count": null,
   "id": "dbd62e82",
   "metadata": {},
   "outputs": [],
   "source": [
    "dir_use <- XeniumOutput(\"v2\", file_path = file.path(fp, \"xenium\"))\n",
    "list.files(dir_use)"
   ]
  },
  {
   "cell_type": "code",
   "execution_count": null,
   "id": "76ebc43a",
   "metadata": {},
   "outputs": [],
   "source": [
    "# RBioFormats issue: https://github.com/aoles/RBioFormats/issues/42\n",
    "try(sfe_xen <- readXenium(dir_use, add_molecules = TRUE))\n",
    "(sfe_xen <- readXenium(dir_use, add_molecules = TRUE))"
   ]
  },
  {
   "cell_type": "code",
   "execution_count": null,
   "id": "2732657d",
   "metadata": {
    "lines_to_next_cell": 2
   },
   "outputs": [],
   "source": [
    "list.files(dir_use)"
   ]
  },
  {
   "cell_type": "markdown",
   "id": "45f5ec46",
   "metadata": {},
   "source": [
    "# Nanostring CosMX output\n",
    "This is similar to `readVizgen()` and `readXenium()`, except that the output doesn't come with images."
   ]
  },
  {
   "cell_type": "code",
   "execution_count": null,
   "id": "279b5868",
   "metadata": {},
   "outputs": [],
   "source": [
    "dir_use <- CosMXOutput(file_path = file.path(fp, \"cosmx\"))\n",
    "list.files(dir_use)"
   ]
  },
  {
   "cell_type": "code",
   "execution_count": null,
   "id": "f151b811",
   "metadata": {},
   "outputs": [],
   "source": [
    "(sfe_cosmx <- readCosMX(dir_use, add_molecules = TRUE))"
   ]
  },
  {
   "cell_type": "code",
   "execution_count": null,
   "id": "4b04755b",
   "metadata": {},
   "outputs": [],
   "source": [
    "list.files(dir_use)"
   ]
  },
  {
   "cell_type": "markdown",
   "id": "706adeb1",
   "metadata": {
    "lines_to_next_cell": 0
   },
   "source": [
    "# Other technologies\n",
    "A read function for Visium HD is in progress. Contribution for Akoya, Molecular Cartography, and Curio Seeker are welcome. See the [issues](https://github.com/pachterlab/SpatialFeatureExperiment/issues).\n",
    "\n",
    "# Create SFE object from scratch\n",
    "An SFE object can be constructed from scratch with the assay matrices and metadata. In this toy example, `dgCMatrix` is used, but since SFE inherits from SingleCellExperiment (SCE), other types of arrays supported by SCE such as delayed arrays should also work."
   ]
  },
  {
   "cell_type": "code",
   "execution_count": null,
   "id": "4eac023b",
   "metadata": {},
   "outputs": [],
   "source": [
    "# Visium barcode location from Space Ranger\n",
    "data(\"visium_row_col\")\n",
    "coords1 <- visium_row_col[visium_row_col$col < 6 & visium_row_col$row < 6,]\n",
    "coords1$row <- coords1$row * sqrt(3)\n",
    "\n",
    "# Random toy sparse matrix\n",
    "set.seed(29)\n",
    "col_inds <- sample(1:13, 13)\n",
    "row_inds <- sample(1:5, 13, replace = TRUE)\n",
    "values <- sample(1:5, 13, replace = TRUE)\n",
    "mat <- sparseMatrix(i = row_inds, j = col_inds, x = values)\n",
    "colnames(mat) <- coords1$barcode\n",
    "rownames(mat) <- sample(LETTERS, 5)"
   ]
  },
  {
   "cell_type": "markdown",
   "id": "e3293dfe",
   "metadata": {
    "lines_to_next_cell": 0
   },
   "source": [
    "This should be sufficient to create an SPE object, and an SFE object, even though no `sf` data frame was constructed for the geometries. The constructor behaves similarly to the SPE constructor. The centroid coordinates of the Visium spots in the example can be converted into spot polygons with the `spotDiameter` argument, which can also be relevant to other technologies with round spots or beads, such as Slide-seq. Spot diameter in pixels in full resolution images can be found in the `scalefactors_json.json` file in Space Ranger output."
   ]
  },
  {
   "cell_type": "code",
   "execution_count": null,
   "id": "f4df53ce",
   "metadata": {},
   "outputs": [],
   "source": [
    "sfe3 <- SpatialFeatureExperiment(list(counts = mat), colData = coords1,\n",
    "                                spatialCoordsNames = c(\"col\", \"row\"),\n",
    "                                spotDiameter = 0.7)"
   ]
  },
  {
   "cell_type": "markdown",
   "id": "340cf9d4",
   "metadata": {
    "lines_to_next_cell": 0
   },
   "source": [
    "More geometries and spatial graphs can be added after calling the constructor.\n",
    "\n",
    "Geometries can also be supplied in the constructor. "
   ]
  },
  {
   "cell_type": "code",
   "execution_count": null,
   "id": "cb7001f8",
   "metadata": {},
   "outputs": [],
   "source": [
    "# Convert regular data frame with coordinates to sf data frame\n",
    "cg <- df2sf(coords1[,c(\"col\", \"row\")], c(\"col\", \"row\"), spotDiameter = 0.7)\n",
    "rownames(cg) <- colnames(mat)\n",
    "sfe3 <- SpatialFeatureExperiment(list(counts = mat), colGeometries = list(foo = cg))"
   ]
  },
  {
   "cell_type": "markdown",
   "id": "68012c90",
   "metadata": {
    "lines_to_next_cell": 0
   },
   "source": [
    "# Coercion from `SpatialExperiment`\n",
    "SPE objects can be coerced into SFE objects. If column geometries or spot diameter are not specified, then a column geometry called \"centroids\" will be created."
   ]
  },
  {
   "cell_type": "code",
   "execution_count": null,
   "id": "4c073811",
   "metadata": {},
   "outputs": [],
   "source": [
    "spe <- SpatialExperiment::read10xVisium(samples, sample_ids, type = \"sparse\", \n",
    "                                        data = \"filtered\", \n",
    "                                        images = \"hires\", load = FALSE)"
   ]
  },
  {
   "cell_type": "markdown",
   "id": "01e47e4b",
   "metadata": {
    "lines_to_next_cell": 0
   },
   "source": [
    "For the coercion, column names must not be duplicate."
   ]
  },
  {
   "cell_type": "code",
   "execution_count": null,
   "id": "99073280",
   "metadata": {},
   "outputs": [],
   "source": [
    "colnames(spe) <- make.unique(colnames(spe), sep = \"-\")\n",
    "rownames(spatialCoords(spe)) <- colnames(spe)"
   ]
  },
  {
   "cell_type": "code",
   "execution_count": null,
   "id": "73307dd3",
   "metadata": {},
   "outputs": [],
   "source": [
    "(sfe3 <- toSpatialFeatureExperiment(spe))"
   ]
  },
  {
   "cell_type": "markdown",
   "id": "b280a34e",
   "metadata": {
    "lines_to_next_cell": 0
   },
   "source": [
    "If images are present in the SPE object, they will be converted into `SpatRaster` when the SPE object is converted into SFE. Plotting functions in the `Voyager` package relies on `SpatRaster` to plot the image behind the geometries. \n",
    "\n",
    "# Coercion from `Seurat`\n",
    "Seurat objects can be coerced into SFE objects though coercion from SFE to Seurat is not yet implemented."
   ]
  },
  {
   "cell_type": "code",
   "execution_count": null,
   "id": "766ba15e",
   "metadata": {
    "eval": false
   },
   "outputs": [],
   "source": [
    "dir_extdata <- system.file(\"extdata\", package = \"SpatialFeatureExperiment\")\n",
    "obj_vis <- readRDS(file.path(dir_extdata, \"seu_vis_toy.rds\"))"
   ]
  },
  {
   "cell_type": "code",
   "execution_count": null,
   "id": "daf07d2e",
   "metadata": {
    "eval": false
   },
   "outputs": [],
   "source": [
    "sfe_conv_vis <-\n",
    "  toSpatialFeatureExperiment(x = obj_vis, \n",
    "                             image_scalefactors = \"lowres\",\n",
    "                             unit = \"micron\",\n",
    "                             BPPARAM = BPPARAM)\n",
    "sfe_conv_vis"
   ]
  },
  {
   "cell_type": "markdown",
   "id": "240123b6",
   "metadata": {},
   "source": [
    "# Session info"
   ]
  },
  {
   "cell_type": "code",
   "execution_count": null,
   "id": "d5e539e1",
   "metadata": {},
   "outputs": [],
   "source": [
    "# Clean up\n",
    "unlink(file.path(fp, \"vizgen\"), recursive = TRUE)\n",
    "unlink(file.path(fp, \"xenium\"), recursive = TRUE)\n",
    "unlink(file.path(fp, \"cosmx\"), recursive = TRUE)"
   ]
  },
  {
   "cell_type": "code",
   "execution_count": null,
   "id": "cbbedba2",
   "metadata": {},
   "outputs": [],
   "source": [
    "sessionInfo()"
   ]
  }
 ],
 "metadata": {
  "kernelspec": {
   "display_name": "R",
   "language": "R",
   "name": "ir"
  }
 },
 "nbformat": 4,
 "nbformat_minor": 5
}
