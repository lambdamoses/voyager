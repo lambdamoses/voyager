{
 "cells": [
  {
   "cell_type": "raw",
   "id": "6ca89673",
   "metadata": {},
   "source": [
    "---\n",
    "title: \"SPLiT-seq basic quality control\"\n",
    "author: \"Kayla Jackson and A. Sina Booeshaghi\"\n",
    "date: \"`r Sys.Date()`\"\n",
    "output: \n",
    "  html_document:\n",
    "  toc: true\n",
    "  toc_float:\n",
    "    collapsed: false\n",
    "  toc_depth: 3\n",
    "bibliography: ref.bib\n",
    "vignette: >\n",
    "  %\\VignetteIndexEntry{splitseq_qc}\n",
    "  %\\VignetteEngine{knitr::rmarkdown}\n",
    "  %\\VignetteEncoding{UTF-8}\n",
    "---"
   ]
  },
  {
   "cell_type": "code",
   "execution_count": null,
   "id": "97ab19b9",
   "metadata": {
    "tags": [
     "remove_cell"
    ]
   },
   "outputs": [],
   "source": [
    "knitr::opts_chunk$set(\n",
    "  collapse = TRUE,\n",
    "  comment = \"#>\", fig.align = \"center\"\n",
    ")"
   ]
  },
  {
   "cell_type": "code",
   "execution_count": null,
   "id": "2eeb5187",
   "metadata": {
    "eval": false,
    "tags": [
     "remove_cell"
    ]
   },
   "outputs": [],
   "source": [
    "# Install Google Colab dependencies\n",
    "# Note: this can take 30+ minutes (many of the dependencies include C++ code, which needs to be compiled)\n",
    "\n",
    "# First install `sf`, `ragg` and `textshaping` and their system dependencies:\n",
    "system(\"apt-get -y update && apt-get install -y  libudunits2-dev libgdal-dev libgeos-dev libproj-dev libharfbuzz-dev libfribidi-dev\")\n",
    "install.packages(\"sf\")\n",
    "install.packages(\"textshaping\")\n",
    "install.packages(\"ragg\")\n",
    "\n",
    "# Install system dependencies of some other R packages that Voyager either imports or suggests:\n",
    "system(\"apt-get install -y libfribidi-dev libcairo2-dev libmagick++-dev\")\n",
    "\n",
    "# Install Voyager from Bioconductor:\n",
    "install.packages(\"BiocManager\")\n",
    "BiocManager::install(version = \"release\", ask = FALSE, update = FALSE, Ncpus = 2)\n",
    "BiocManager::install(\"scater\")\n",
    "system.time(\n",
    "  BiocManager::install(\"Voyager\", dependencies = TRUE, Ncpus = 2, update = FALSE)\n",
    ")\n",
    "\n",
    "\n",
    "packageVersion(\"Voyager\")"
   ]
  },
  {
   "cell_type": "code",
   "execution_count": null,
   "id": "3ea4ae61",
   "metadata": {
    "lines_to_next_cell": 0,
    "name": "retic",
    "tags": [
     "remove_cell"
    ]
   },
   "outputs": [],
   "source": [
    "# Install anndata for cellatlas examples\n",
    "# install.packages(\"reticulate\")\n",
    "reticulate::install_miniconda(force = TRUE)\n",
    "install.packages(\"anndata\")"
   ]
  },
  {
   "cell_type": "markdown",
   "id": "a7ccaf1d",
   "metadata": {},
   "source": [
    "# Introduction\n",
    "The data in this vignette is shipped with the `cellatlas` repository. The count matrix and metadata are provided in the `cellatlas/examples` folder as an [`AnnData`](https://anndata-tutorials.readthedocs.io/en/latest/getting-started.html) object. We will begin by loading the object and converting it to a `SpatialFeatureExperiment` object. "
   ]
  },
  {
   "cell_type": "code",
   "execution_count": null,
   "id": "27a76dde",
   "metadata": {
    "message": false,
    "name": "setup"
   },
   "outputs": [],
   "source": [
    "library(stringr)\n",
    "library(Matrix)\n",
    "library(SpatialExperiment)\n",
    "library(SpatialFeatureExperiment)\n",
    "library(scater)\n",
    "library(scuttle)\n",
    "library(Voyager)"
   ]
  },
  {
   "cell_type": "code",
   "execution_count": null,
   "id": "180f937d",
   "metadata": {
    "message": true,
    "tags": [
     "remove_output"
    ]
   },
   "outputs": [],
   "source": [
    "if (!file.exists(\"splitseq.rds\"))\n",
    "    download.file(\"https://github.com/pachterlab/voyager/raw/documentation-devel/vignettes/splitseq.rds\", destfile = \"splitseq.rds\")\n",
    "sce <- readRDS(\"splitseq.rds\")"
   ]
  },
  {
   "cell_type": "code",
   "execution_count": null,
   "id": "02fab764",
   "metadata": {},
   "outputs": [],
   "source": [
    "is_mito <- str_detect(rowData(sce)$gene_name, regex(\"^mt-\", ignore_case=TRUE))\n",
    "sum(is_mito)"
   ]
  },
  {
   "cell_type": "code",
   "execution_count": null,
   "id": "2ed56272",
   "metadata": {},
   "outputs": [],
   "source": [
    "sce <- addPerCellQCMetrics(sce, subsets = list(mito = is_mito))\n",
    "names(colData(sce))"
   ]
  },
  {
   "cell_type": "code",
   "execution_count": null,
   "id": "5a5c8dfd",
   "metadata": {},
   "outputs": [],
   "source": [
    "plotColData(sce, \"sum\") +\n",
    "    plotColData(sce, \"detected\") +\n",
    "    plotColData(sce, \"subsets_mito_percent\")"
   ]
  },
  {
   "cell_type": "code",
   "execution_count": null,
   "id": "dd6d7a9f",
   "metadata": {},
   "outputs": [],
   "source": [
    "plotColData(sce, x = \"sum\", y = \"detected\", bins = 100) +\n",
    "    scale_fill_distiller(palette = \"Blues\", direction = 1)"
   ]
  },
  {
   "cell_type": "code",
   "execution_count": null,
   "id": "6c127c9a",
   "metadata": {},
   "outputs": [],
   "source": [
    "plotColData(sce, x = \"sum\", y = \"subsets_mito_detected\", bins = 100) +\n",
    "    scale_fill_distiller(palette = \"Blues\", direction = 1)"
   ]
  },
  {
   "cell_type": "code",
   "execution_count": null,
   "id": "159a2b6d",
   "metadata": {
    "name": "subset-qc"
   },
   "outputs": [],
   "source": [
    "sce <- sce[, which(sce$subsets_mito_percent < 20)]\n",
    "sce <- sce[rowSums(counts(sce)) > 0,]\n",
    "\n",
    "sce"
   ]
  },
  {
   "cell_type": "code",
   "execution_count": null,
   "id": "61ceefd1",
   "metadata": {},
   "outputs": [],
   "source": [
    "sessionInfo()"
   ]
  }
 ],
 "metadata": {
  "kernelspec": {
   "display_name": "R",
   "language": "R",
   "name": "ir"
  }
 },
 "nbformat": 4,
 "nbformat_minor": 5
}
