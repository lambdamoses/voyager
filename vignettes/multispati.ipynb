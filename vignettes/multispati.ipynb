{
 "cells": [
  {
   "cell_type": "raw",
   "id": "0562a9ae",
   "metadata": {},
   "source": [
    "---\n",
    "title: \"MULTISPATI PCA and negative spatial autocorrelation\"\n",
    "author: \"Lambda Moses\"\n",
    "date: \"`r Sys.Date()`\"\n",
    "output: \n",
    "  html_document:\n",
    "  toc: true\n",
    "  toc_float:\n",
    "    collapsed: false\n",
    "  toc_depth: 3\n",
    "bibliography: ref.bib\n",
    "vignette: >\n",
    "  %\\VignetteIndexEntry{multispati}\n",
    "  %\\VignetteEngine{knitr::rmarkdown}\n",
    "  %\\VignetteEncoding{UTF-8}\n",
    "---"
   ]
  },
  {
   "cell_type": "code",
   "execution_count": null,
   "id": "f7870b89",
   "metadata": {
    "lines_to_next_cell": 2,
    "tags": [
     "remove_cell"
    ]
   },
   "outputs": [],
   "source": [
    "knitr::opts_chunk$set(\n",
    "  collapse = TRUE,\n",
    "  comment = \"#>\"\n",
    ")"
   ]
  },
  {
   "cell_type": "code",
   "execution_count": null,
   "id": "98c76597",
   "metadata": {
    "eval": false,
    "tags": [
     "remove_cell"
    ]
   },
   "outputs": [],
   "source": [
    "# Install Google Colab dependencies\n",
    "# Note: this can take 30+ minutes (many of the dependencies include C++ code, which needs to be compiled)\n",
    "\n",
    "# First install `sf`, `ragg` and `textshaping` and their system dependencies:\n",
    "system(\"apt-get -y update && apt-get install -y  libudunits2-dev libgdal-dev libgeos-dev libproj-dev libharfbuzz-dev libfribidi-dev\")\n",
    "install.packages(\"sf\")\n",
    "install.packages(\"textshaping\")\n",
    "install.packages(\"ragg\")\n",
    "\n",
    "# Install system dependencies of some other R packages that Voyager either imports or suggests:\n",
    "system(\"apt-get install -y libfribidi-dev libcairo2-dev libmagick++-dev\")\n",
    "\n",
    "# Install Voyager from Bioconductor:\n",
    "install.packages(\"BiocManager\")\n",
    "BiocManager::install(version = \"release\", ask = FALSE, update = FALSE, Ncpus = 2)\n",
    "BiocManager::install(\"scater\")\n",
    "system.time(\n",
    "  BiocManager::install(\"Voyager\", dependencies = TRUE, Ncpus = 2, update = FALSE)\n",
    ")\n",
    "\n",
    "# Other packages used in this vignette\n",
    "packageVersion(\"Voyager\")"
   ]
  },
  {
   "cell_type": "markdown",
   "id": "ea9cff5e",
   "metadata": {},
   "source": [
    "# Introduction\n",
    "Due to the large number of genes quantified in single cell and spatial transcriptomics, dimension reduction is part of the standard workflow to analyze such data, to visualize, to help interpreting the data, to distill relevant information and reduce noise, to facilitate downstream analyses such as clustering and pseudotime, to project different samples into a shared latent space for data integration, and so on.\n",
    "\n",
    "The first dimension reduction methods we learn about, such as good old principal component analysis (PCA), tSNE, and UMAP, don't use spatial information. With the rise of spatial transcriptomics, some dimension reduction methods that take spatial dependence into account have been written. Some, such as `SpatialPCA` [@Shang2022-wq], `NSF` [@Townes2023-bi], and `MEFISTO` [@Velten2022-gv] use factor analysis or probabilistic PCA which is related to factor analysis, and model the factors as Gaussian processes, with a spatial kernel for the covariance matrix, so the factors have positive spatial autocorrelation and can be used for downstream clustering where the clusters can be more spatially coherent. Some use graph convolution networks on a spatial neighborhood graph to find spatially informed embeddings of the cells, such as `conST` [@Zong2022-tb] and `SpaceFlow` [@Ren2022-xt]. `SpaSRL` [@Zhang2023-mm] finds a low dimension projection of spatial neighborhood augmented data. \n",
    "\n",
    "Spatially informed dimension reduction is actually not new, and dates back to at least 1985, with Wartenberg's crossover of Moran's I and PCA [@Wartenberg1985-re], which was generalized and further developed as MULTISPATI PCA [@Dray2008-cg], implemented in the [`adespatial`](https://cran.r-project.org/web/packages/adespatial/index.html) package on CRAN. In short, while PCA tries to maximize the variance explained by each PC, MULTISPATI maximizes the product of Moran's I and variance explained. Also, while all the eigenvalues from PCA are non-negative, because the covariance matrix is positive semidefinite, MULTISPATI can give negative eigenvalues, which represent negative spatial autocorrelation, which can be present and interesting but is not as common as positive spatial autocorrelation and is often masked by the latter [@Griffith2019-sj]. \n",
    "\n",
    "In single cell -omics conventions, let $X$ denote a gene count matrix whose columns are cells or Visium spots and whose rows are genes, with $n$ columns. Let $W$ denote the row normalized $n\\times n$ adjacency matrix of the spatial neighborhood graph of the cells or Visium spots, which does not have to be symmetric. MULTISPATI diagonalizes a symmetric matrix\n",
    "\n",
    "$$\n",
    "H = \\frac 1 {2n} X(W^t+W)X^t\n",
    "$$\n",
    "\n",
    "However, the implementation in `adespatial` is more general and can be used for other multivariate analyses in the [duality diagram](https://www.ncbi.nlm.nih.gov/pmc/articles/PMC3265363/) paradigm, such as correspondence analysis; the equation above is simplified just for PCA, without having to introduce the duality diagram here.\n",
    "\n",
    "Voyager 1.2.0 (Bioconductor release) has a much faster implementation of MULTISPATI PCA based on [`RSpectra`](https://cran.r-project.org/web/packages/RSpectra/index.html). See benchmark [here](https://lambdamoses.github.io/thevoyages/posts/2023-03-25-multispati-part-2/).\n",
    "\n",
    "In this vignette, we perform MULTISPATI PCA on the MERFISH mouse liver dataset. See the first vignette using this dataset [here](https://pachterlab.github.io/voyager/articles/vig6_merfish.html).\n",
    "\n",
    "Here we load the packages used:"
   ]
  },
  {
   "cell_type": "code",
   "execution_count": null,
   "id": "a130df9f",
   "metadata": {
    "message": false,
    "name": "setup"
   },
   "outputs": [],
   "source": [
    "library(Voyager)\n",
    "library(SFEData)\n",
    "library(SpatialFeatureExperiment)\n",
    "library(scater)\n",
    "library(scran)\n",
    "library(scuttle)\n",
    "library(ggplot2)\n",
    "library(stringr)\n",
    "library(tidyr)\n",
    "library(tibble)\n",
    "library(bluster)\n",
    "library(BiocSingular)\n",
    "library(BiocParallel)\n",
    "library(sf)\n",
    "library(patchwork)\n",
    "library(spdep)\n",
    "set.ZeroPolicyOption(TRUE)\n",
    "theme_set(theme_bw())"
   ]
  },
  {
   "cell_type": "code",
   "execution_count": null,
   "id": "c51a2674",
   "metadata": {},
   "outputs": [],
   "source": [
    "(sfe <- VizgenLiverData())"
   ]
  },
  {
   "cell_type": "markdown",
   "id": "43b139a0",
   "metadata": {
    "lines_to_next_cell": 0
   },
   "source": [
    "MULTISPATI PCA is one of the multivariate methods introduced in `Voyager` 1.2.0. All multivariate methods in `Voyager` are listed here:"
   ]
  },
  {
   "cell_type": "code",
   "execution_count": null,
   "id": "0e6cb5f5",
   "metadata": {},
   "outputs": [],
   "source": [
    "listSFEMethods(variate = \"multi\")"
   ]
  },
  {
   "cell_type": "markdown",
   "id": "e72568ea",
   "metadata": {
    "lines_to_next_cell": 0
   },
   "source": [
    "When calling `calculate*variate()` or `run*variate()`, the `type` (2nd) argument takes either an `SFEMethod` object or a string that matches an entry in the `name` column in the data frame returned by `listSFEMethods()`.\n",
    "\n",
    "# Quality control\n",
    "QC was already performed in the [first vignette](https://pachterlab.github.io/voyager/articles/vig6_merfish.html). We do the same QC here, but see the first vignette for more details."
   ]
  },
  {
   "cell_type": "code",
   "execution_count": null,
   "id": "531e089a",
   "metadata": {},
   "outputs": [],
   "source": [
    "is_blank <- str_detect(rownames(sfe), \"^Blank-\")\n",
    "sfe <- addPerCellQCMetrics(sfe, subset = list(blank = is_blank))"
   ]
  },
  {
   "cell_type": "code",
   "execution_count": null,
   "id": "007a499a",
   "metadata": {},
   "outputs": [],
   "source": [
    "get_neg_ctrl_outliers <- function(col, sfe, nmads = 3, log = FALSE) {\n",
    "    inds <- colData(sfe)$nCounts > 0 & colData(sfe)[[col]] > 0\n",
    "    df <- colData(sfe)[inds,]\n",
    "    outlier_inds <- isOutlier(df[[col]], type = \"higher\", nmads = nmads, log = log)\n",
    "    outliers <- rownames(df)[outlier_inds]\n",
    "    col2 <- str_remove(col, \"^subsets_\")\n",
    "    col2 <- str_remove(col2, \"_percent$\")\n",
    "    new_colname <- paste(\"is\", col2, \"outlier\", sep = \"_\")\n",
    "    colData(sfe)[[new_colname]] <- colnames(sfe) %in% outliers\n",
    "    sfe\n",
    "}"
   ]
  },
  {
   "cell_type": "code",
   "execution_count": null,
   "id": "7ca8cb09",
   "metadata": {},
   "outputs": [],
   "source": [
    "sfe <- get_neg_ctrl_outliers(\"subsets_blank_percent\", sfe, log = TRUE)"
   ]
  },
  {
   "cell_type": "markdown",
   "id": "1c516d7b",
   "metadata": {
    "lines_to_next_cell": 0
   },
   "source": [
    "Remove the outliers and empty cells:"
   ]
  },
  {
   "cell_type": "code",
   "execution_count": null,
   "id": "487940e9",
   "metadata": {},
   "outputs": [],
   "source": [
    "inds <- !sfe$is_blank_outlier & sfe$nCounts > 0\n",
    "(sfe <- sfe[, inds])"
   ]
  },
  {
   "cell_type": "markdown",
   "id": "c80bfd50",
   "metadata": {},
   "source": [
    "There still are over 390,000 cells left after removing the outliers. \n",
    "\n",
    "Next we compute Moran's I for QC metrics, which requires a spatial neighborhood graph:"
   ]
  },
  {
   "cell_type": "code",
   "execution_count": null,
   "id": "7b0e983d",
   "metadata": {},
   "outputs": [],
   "source": [
    "system.time(\n",
    "    colGraph(sfe, \"knn5\") <- findSpatialNeighbors(sfe, method = \"knearneigh\", \n",
    "                                                  dist_type = \"idw\", k = 5, \n",
    "                                                  style = \"W\", zero.policy = TRUE)\n",
    ")"
   ]
  },
  {
   "cell_type": "code",
   "execution_count": null,
   "id": "687f2ca5",
   "metadata": {},
   "outputs": [],
   "source": [
    "features_use <- c(\"nCounts\", \"nGenes\", \"volume\")\n",
    "sfe <- colDataUnivariate(sfe, \"moran.mc\", features_use, \n",
    "                         colGraphName = \"knn5\", nsim = 49, \n",
    "                         BPPARAM = MulticoreParam(2))"
   ]
  },
  {
   "cell_type": "code",
   "execution_count": null,
   "id": "abedfa9f",
   "metadata": {},
   "outputs": [],
   "source": [
    "plotMoranMC(sfe, features_use)"
   ]
  },
  {
   "cell_type": "markdown",
   "id": "09f39cfb",
   "metadata": {},
   "source": [
    "Here Moran's I is a little negative, but from the permutation testing, it is significant, though that can also be the large number of cells. The lower bound of Moran's I given the spatial neighborhood graph is usually closer to -0.5 than -1, while the upper bound is usually around 1. The bounds given a specific spatial neighborhood graph can be found with `moranBounds()`, but because it double centers the adjacency matrix, hence making it dense, there isn't enough memory to use it for the entire dataset. But we can look at the Moran bounds of a small subset of data, which might be generalizable to the whole dataset given that this tissue appears quite homogeneous in space."
   ]
  },
  {
   "cell_type": "code",
   "execution_count": null,
   "id": "d8190fb3",
   "metadata": {},
   "outputs": [],
   "source": [
    "bbox_use <- c(xmin = 6000, xmax = 7000, ymin = 4000, ymax = 5000)\n",
    "inds2 <- st_intersects(cellSeg(sfe), st_as_sfc(st_bbox(bbox_use)), \n",
    "                       sparse = FALSE)[,1]\n",
    "sfe_sub <- sfe[, inds2]"
   ]
  },
  {
   "cell_type": "markdown",
   "id": "521dbdec",
   "metadata": {},
   "source": [
    "Note that since SpatialFeatureExperiment v1.8, the sptial graphs are subsetted rather than reconstructed when the SFE object is subsetted because reconstruction tends to be more time consuming and the BPPARAM and BNPARAM arguments can't be stored and saved by `alabaster.sfe`. Subsetting removes some of the neighbors of cells near the boundary of this bounding box but the vast majority of cells still have all 5 nearest neighbors."
   ]
  },
  {
   "cell_type": "code",
   "execution_count": null,
   "id": "2b42e662",
   "metadata": {},
   "outputs": [],
   "source": [
    "table(card(colGraph(sfe_sub, \"knn5\")$neighbours))"
   ]
  },
  {
   "cell_type": "code",
   "execution_count": null,
   "id": "e6b236b0",
   "metadata": {},
   "outputs": [],
   "source": [
    "(mb <- moranBounds(colGraph(sfe_sub, \"knn5\")))"
   ]
  },
  {
   "cell_type": "markdown",
   "id": "ed5ebfd3",
   "metadata": {
    "lines_to_next_cell": 0
   },
   "source": [
    "The lower bound is quite different from if we reconstruct the knn graph on the subset"
   ]
  },
  {
   "cell_type": "code",
   "execution_count": null,
   "id": "f6506826",
   "metadata": {},
   "outputs": [],
   "source": [
    "colGraph(sfe_sub, \"knn5_reconst\") <- findSpatialNeighbors(sfe_sub, method = \"knearneigh\", \n",
    "                                                          k = 5L, dist_type = \"idw\",\n",
    "                                                          style = \"W\")"
   ]
  },
  {
   "cell_type": "code",
   "execution_count": null,
   "id": "abfc70b3",
   "metadata": {},
   "outputs": [],
   "source": [
    "(mb2 <- moranBounds(colGraph(sfe_sub, \"knn5_reconst\")))"
   ]
  },
  {
   "cell_type": "markdown",
   "id": "aa38e245",
   "metadata": {
    "lines_to_next_cell": 0
   },
   "source": [
    "It would be cool to systematically investigate the effects of perturbations to the spatial neighborhood graph on Moran's I and other spatial statistics.\n",
    "\n",
    "So considering the bounds, the Moran's I values of the QC metrics are more like"
   ]
  },
  {
   "cell_type": "code",
   "execution_count": null,
   "id": "db65a33d",
   "metadata": {},
   "outputs": [],
   "source": [
    "setNames(colFeatureData(sfe)[c(\"nCounts\", \"nGenes\", \"volume\"), \n",
    "                             \"moran.mc_statistic_sample01\"] / mb2[\"Imin\"],\n",
    "         features_use)"
   ]
  },
  {
   "cell_type": "markdown",
   "id": "910b40ae",
   "metadata": {},
   "source": [
    "whose magnitudes seem more substantial for `nCounts` and `nGenes` if it's positive spatial autocorrelation. So there may be mild to moderate negative spatial autocorrelation."
   ]
  },
  {
   "cell_type": "code",
   "execution_count": null,
   "id": "254d78e2",
   "metadata": {},
   "outputs": [],
   "source": [
    "# Normalize data\n",
    "sfe <- logNormCounts(sfe)"
   ]
  },
  {
   "cell_type": "markdown",
   "id": "6ca17322",
   "metadata": {},
   "source": [
    "# Hepatic zonation\n",
    "\n",
    "This dataset comes from a relatively large piece of tissue and we need to zoom into a smaller region to better see the local structures. Here we specify a bounding box."
   ]
  },
  {
   "cell_type": "code",
   "execution_count": null,
   "id": "94e16e60",
   "metadata": {},
   "outputs": [],
   "source": [
    "bbox_use <- c(xmin = 6100, xmax = 7100, ymin = 7500, ymax = 8500)"
   ]
  },
  {
   "cell_type": "markdown",
   "id": "59c1a175",
   "metadata": {},
   "source": [
    "A portal triad is shown near the top right of this bounding box. The two large vessels on the left and bottom right are central veins. The portal triad consists of the hepatic artery, portal vein which brings blood from the intestine, and bile duct, so it's more oxygenated. The regions around the central vein is more deoxygenated. The different oxygen and nutrient contents mean that hepatocytes play different metabolic roles in the zones between the portal triad and the central vein. Here we plot some zonation marker genes from [@Halpern2017-ey]. "
   ]
  },
  {
   "cell_type": "code",
   "execution_count": null,
   "id": "314a6ead",
   "metadata": {},
   "outputs": [],
   "source": [
    "markers <- c(\"Axin2\", \"Cyp1a2\", \"Gstm3\", \"Psmd4\", # Pericentral\n",
    "             \"Cyp2e1\", \"Asl\", \"Alb\", \"Ass1\", # Monotonic but has intermediate\n",
    "             \"Hamp\", \"Igfbp2\", \"Cyp8b1\", \"Mup3\", # Non-monotonic\n",
    "             \"Arg1\", \"Pck1\", \"C2\", \"Sdhd\") # Periportal"
   ]
  },
  {
   "cell_type": "code",
   "execution_count": null,
   "id": "437ec410",
   "metadata": {},
   "outputs": [],
   "source": [
    "(inds <- which(markers %in% rownames(sfe)))"
   ]
  },
  {
   "cell_type": "markdown",
   "id": "71f35896",
   "metadata": {
    "lines_to_next_cell": 0
   },
   "source": [
    "Only 3 of these marker genes are present in this dataset. The first two are pericentral (near the central vein), and the last one is periportal (near the portal triad)."
   ]
  },
  {
   "cell_type": "code",
   "execution_count": null,
   "id": "10b9c7c5",
   "metadata": {
    "fig.height": 3,
    "fig.width": 9
   },
   "outputs": [],
   "source": [
    "plotSpatialFeature(sfe, markers[inds], colGeometryName = \"cellSeg\",\n",
    "                   ncol = 3, bbox = bbox_use)"
   ]
  },
  {
   "cell_type": "markdown",
   "id": "76907887",
   "metadata": {},
   "source": [
    "Besides hepatocytes, the liver also has many endothelial cells and Kupffer cells (macrophages). Marker genes of these cells from [@Bonnardel2019-sq] are plotted to visualize these cell types in space:"
   ]
  },
  {
   "cell_type": "code",
   "execution_count": null,
   "id": "fd0220e7",
   "metadata": {},
   "outputs": [],
   "source": [
    "# Kuppfer cells\n",
    "kc_genes <- c(\"Timd4\", \"Vsig4\", \"Clec4f\", \"Clec1b\", \"Il18bp\", \"C6\", \"Irf7\",\n",
    "              \"Slc40a1\", \"Cdh5\", \"Nr1h3\", \"Dmpk\", \"Paqr9\", \"Pcolce2\", \"Kcna2\",\n",
    "              \"Gbp8\", \"Iigp1\", \"Helz2\", \"Cd207\", \"Icos\", \"Adcy4\", \"Slc1a2\",\n",
    "              \"Rsad2\", \"Slc16a9\", \"Cd209f\", \"Oasl1\", \"Fam167a\")\n",
    "which(kc_genes %in% rownames(sfe))"
   ]
  },
  {
   "cell_type": "markdown",
   "id": "675c6de4",
   "metadata": {
    "lines_to_next_cell": 0
   },
   "source": [
    "Only one of the Kupffer cell markers is available in this dataset."
   ]
  },
  {
   "cell_type": "code",
   "execution_count": null,
   "id": "1b4604a3",
   "metadata": {},
   "outputs": [],
   "source": [
    "plotSpatialFeature(sfe, kc_genes[9], colGeometryName = \"cellSeg\",\n",
    "                   bbox = bbox_use)"
   ]
  },
  {
   "cell_type": "markdown",
   "id": "e2aee363",
   "metadata": {},
   "source": [
    "Expression of this gene does not seem very spatially coherent."
   ]
  },
  {
   "cell_type": "code",
   "execution_count": null,
   "id": "0d8b0525",
   "metadata": {},
   "outputs": [],
   "source": [
    "# Endothelial cells\n",
    "lec_genes <- c(\"Rspo3\", \"Wnt2\", \"Wnt9b\", \"Pcdhgc5\", \"Ecm1\", \"Ltbp4\", \"Efnb2\")\n",
    "(inds_lec <- which(lec_genes %in% rownames(sfe)))"
   ]
  },
  {
   "cell_type": "markdown",
   "id": "e8f0e8b9",
   "metadata": {
    "lines_to_next_cell": 0
   },
   "source": [
    "Only 3 of these endothelial cell marker genes are available in this dataset."
   ]
  },
  {
   "cell_type": "code",
   "execution_count": null,
   "id": "d7c5b25a",
   "metadata": {
    "fig.height": 3,
    "fig.width": 9
   },
   "outputs": [],
   "source": [
    "plotSpatialFeature(sfe, lec_genes[inds_lec], colGeometryName = \"cellSeg\",\n",
    "                   bbox = bbox_use, ncol = 3)"
   ]
  },
  {
   "cell_type": "markdown",
   "id": "bfa1b822",
   "metadata": {},
   "source": [
    "Wnt2 seems to be more pericentral, while Ltbp4 and Efnb2 seem more periportal.\n",
    "\n",
    "Some of these marker genes will show up in the top PC loadings non-spatial and spatial PCA.\n",
    "\n",
    "# Non-spatial PCA\n",
    "First we run non-spatial PCA, to compare to MULTISPATI."
   ]
  },
  {
   "cell_type": "code",
   "execution_count": null,
   "id": "f4ad1451",
   "metadata": {},
   "outputs": [],
   "source": [
    "set.seed(29)\n",
    "system.time(\n",
    "    sfe <- runPCA(sfe, ncomponents = 20, subset_row = !is_blank,\n",
    "                  exprs_values = \"logcounts\",\n",
    "                  scale = TRUE, BSPARAM = IrlbaParam())\n",
    ")\n",
    "gc()"
   ]
  },
  {
   "cell_type": "markdown",
   "id": "c1b4af0b",
   "metadata": {},
   "source": [
    "That's pretty quick for almost 400,000 cells, but there aren't that many genes here. Use the elbow plot to see variance explained by each PC:"
   ]
  },
  {
   "cell_type": "code",
   "execution_count": null,
   "id": "489422c0",
   "metadata": {},
   "outputs": [],
   "source": [
    "ElbowPlot(sfe)"
   ]
  },
  {
   "cell_type": "markdown",
   "id": "f3702b8e",
   "metadata": {
    "lines_to_next_cell": 0
   },
   "source": [
    "Plot top gene loadings in each PC"
   ]
  },
  {
   "cell_type": "code",
   "execution_count": null,
   "id": "d55b0b76",
   "metadata": {},
   "outputs": [],
   "source": [
    "plotDimLoadings(sfe)"
   ]
  },
  {
   "cell_type": "markdown",
   "id": "b3660a06",
   "metadata": {
    "lines_to_next_cell": 0
   },
   "source": [
    "Many of these genes seem to be related to the endothelium. PC1 and PC4 concern the Kupffer cells as well, as the Kupffer cell marker gene Cdh5 has high loading.\n",
    "\n",
    "Plot the first 4 PCs in space"
   ]
  },
  {
   "cell_type": "code",
   "execution_count": null,
   "id": "747f7e82",
   "metadata": {
    "fig.height": 7,
    "fig.width": 9
   },
   "outputs": [],
   "source": [
    "spatialReducedDim(sfe, \"PCA\", 4, colGeometryName = \"centroids\", scattermore = TRUE,\n",
    "                  divergent = TRUE, diverge_center = 0)"
   ]
  },
  {
   "cell_type": "markdown",
   "id": "4169a072",
   "metadata": {},
   "source": [
    "PC1 and PC4 highlight the major blood vessels, while PC2 and PC3 have less spatial structure. While in the CosMX and Xenium datasets on this website, the top PCs have clear spatial structures despite the absence of spatial information in non-spatial PCA because of clear spatial compartments for some cell types, which does not seem to be the case in this dataset except for the blood vessels. We have seen above that some genes have strong spatial structures. \n",
    "\n",
    "While PC2 and PC3 don't seem to have large scale spatial structure, they may have more local spatial structure not obvious from plotting the entire section, so we zoom into a bounding box which shows hepatic zonation."
   ]
  },
  {
   "cell_type": "code",
   "execution_count": null,
   "id": "87571590",
   "metadata": {
    "fig.height": 7,
    "fig.width": 9
   },
   "outputs": [],
   "source": [
    "spatialReducedDim(sfe, \"PCA\", ncomponents = 4, colGeometryName = \"cellSeg\",\n",
    "                  bbox = bbox_use, divergent = TRUE, diverge_center = 0)"
   ]
  },
  {
   "cell_type": "markdown",
   "id": "17453c05",
   "metadata": {},
   "source": [
    "There's some spatial structure at a smaller scale, perhaps some negative spatial autocorrelation.\n",
    "\n",
    "# MULTISPATI PCA"
   ]
  },
  {
   "cell_type": "code",
   "execution_count": null,
   "id": "f1e5ee9d",
   "metadata": {},
   "outputs": [],
   "source": [
    "system.time({\n",
    "    sfe <- runMultivariate(sfe, \"multispati\", colGraphName = \"knn5\", nfposi = 20,\n",
    "                       nfnega = 20)\n",
    "})"
   ]
  },
  {
   "cell_type": "markdown",
   "id": "9faadd07",
   "metadata": {
    "lines_to_next_cell": 0
   },
   "source": [
    "Then plot the most positive and most negative eigenvalues. Note that the eigenvalues here are not variance explained. Instead, they are the product of variance explained and Moran's I. So the most positive eigenvalues correspond to eigenvectors that simultaneously explain more variance and have large positive Moran's I. The most negative eigenvalues correspond to eigenvectors that simultaneously explain more variance and have negative Moran's I."
   ]
  },
  {
   "cell_type": "code",
   "execution_count": null,
   "id": "6678be3a",
   "metadata": {},
   "outputs": [],
   "source": [
    "ElbowPlot(sfe, nfnega = 20, reduction = \"multispati\")"
   ]
  },
  {
   "cell_type": "markdown",
   "id": "e59e7cbe",
   "metadata": {},
   "source": [
    "Here the positive eigenvalues drop sharply from PC1 to PC4, and there is only one very negative eigenvalue which might be interesting, which is unsurprising given the moderately negative Moran's I for `nCounts` and `nGenes`. However, from the [first MERFISH vignette](https://pachterlab.github.io/voyager/articles/vig6_merfish.html#morans-i), none of the genes have very negative Moran's I. Perhaps the negative eigenvalue comes from negative spatial autocorrelation in a gene program or \"eigengene\" and is not obvious from individual genes. This is the beauty of multivariate analysis.\n",
    "\n",
    "What do these components mean? Each component is a linear combination of genes to maximize the product of variance explained and Moran's I. The second component maximizes this product provided that it's orthogonal to the first component, and so on. As the loss in variance explained is usually not huge, these components can be considered axes along which _spatially coherent_ groups of spots are separated from each other as much as possible according to expression of the highly variable genes, so in theory, clustering with positive MULTISPATI components should give more spatially coherent clusters. Because of the spatial coherence, MULTISPATI might be more robust to outliers."
   ]
  },
  {
   "cell_type": "code",
   "execution_count": null,
   "id": "277fa67c",
   "metadata": {},
   "outputs": [],
   "source": [
    "plotDimLoadings(sfe, dims = c(1:3, 40), reduction = \"multispati\")"
   ]
  },
  {
   "cell_type": "markdown",
   "id": "b5fd4abe",
   "metadata": {
    "lines_to_next_cell": 0
   },
   "source": [
    "From gene loadings, PC40 seems to separate endothelial cells and Kupffer cells from hepatocytes.\n",
    "\n",
    "Plot the these PCs:"
   ]
  },
  {
   "cell_type": "code",
   "execution_count": null,
   "id": "de70f5d0",
   "metadata": {
    "fig.height": 7,
    "fig.width": 9,
    "lines_to_next_cell": 2
   },
   "outputs": [],
   "source": [
    "spatialReducedDim(sfe, \"multispati\", components = c(1:3, 40), \n",
    "                  colGeometryName = \"cellSeg\", bbox = bbox_use,\n",
    "                  divergent = TRUE, diverge_center = 0)"
   ]
  },
  {
   "cell_type": "markdown",
   "id": "bb77b84f",
   "metadata": {},
   "source": [
    "The first two PCs pick up zoning. PC3 seems to have smaller scale spatial structure. PC\"40\" (should really be 300 something) is an example of negative spatial autocorrelation in biology. That Kupffer cells and endothelial cells are scattered among hepatocytes may play a functional role. This does not mean that non-spatial PCA is bad. While MULTISPATI tends not to lose too much variance explained in per PC with positive eigenvalues, it identifies co-expressed genes with spatially structured expression patterns. MULTISPATI tells a different story from non-spatial PCA. PCA cell embeddings are often used for downstream analysis. Whether to use MULTISPATI embeddings instead and which or how many PCs to use depend on the questions asked in the further downstream analyses.\n",
    "\n",
    "# Spatial autocorrelation of principal components\n",
    "## Moran's I\n",
    "Here we compare Moran's I for cell embeddings in each non-spatial and MULTISPATI PC:"
   ]
  },
  {
   "cell_type": "code",
   "execution_count": null,
   "id": "49bc0fb0",
   "metadata": {},
   "outputs": [],
   "source": [
    "# non-spatial\n",
    "sfe <- reducedDimMoransI(sfe, dimred = \"PCA\", components = 1:20,\n",
    "                         BPPARAM = MulticoreParam(2))\n",
    "# spatial\n",
    "sfe <- reducedDimMoransI(sfe, dimred = \"multispati\", components = 1:40,\n",
    "                         BPPARAM = MulticoreParam(2))"
   ]
  },
  {
   "cell_type": "code",
   "execution_count": null,
   "id": "df4d9990",
   "metadata": {},
   "outputs": [],
   "source": [
    "df_moran <- tibble(PCA = reducedDimFeatureData(sfe, \"PCA\")$moran_sample01[1:20],\n",
    "                   MULTISPATI_pos = \n",
    "                       reducedDimFeatureData(sfe, \"multispati\")$moran_sample01[1:20],\n",
    "                   MULTISPATI_neg = \n",
    "                       reducedDimFeatureData(sfe,\"multispati\")$moran_sample01[21:40] |> \n",
    "                       rev(),\n",
    "                   index = 1:20)"
   ]
  },
  {
   "cell_type": "code",
   "execution_count": null,
   "id": "f8fbd1d9",
   "metadata": {},
   "outputs": [],
   "source": [
    "data(\"ditto_colors\")"
   ]
  },
  {
   "cell_type": "code",
   "execution_count": null,
   "id": "2c02597d",
   "metadata": {},
   "outputs": [],
   "source": [
    "df_moran |> \n",
    "    pivot_longer(cols = -index, values_to = \"value\", names_to = \"name\") |> \n",
    "    ggplot(aes(index, value, color = name)) +\n",
    "    geom_line() +\n",
    "    scale_color_manual(values = ditto_colors) +\n",
    "    geom_hline(yintercept = 0, color = \"gray\") +\n",
    "    geom_hline(yintercept = mb2, linetype = 2, color = \"gray\") +\n",
    "    scale_y_continuous(breaks = scales::breaks_pretty()) +\n",
    "    scale_x_continuous(breaks = scales::breaks_width(5)) +\n",
    "    labs(y = \"Moran's I\", color = \"Type\", x = \"Component\")"
   ]
  },
  {
   "cell_type": "markdown",
   "id": "274f6a48",
   "metadata": {},
   "source": [
    "In MULTISPATI, Moran's I is high in PC1 and PC2, but then sharply drops. Moran's I for the PC with the most negative eigenvalues is not very negative, which means the large magnitude of that eigenvalue comes from explaining more variance. However, considering the lower bound of Moran's I that is around -0.6 instead of -1, the magnitude of Moran's I for the PC with the most negative eigenvalue is not trivial."
   ]
  },
  {
   "cell_type": "code",
   "execution_count": null,
   "id": "ee814814",
   "metadata": {},
   "outputs": [],
   "source": [
    "min(df_moran$MULTISPATI_neg) / mb2[1]"
   ]
  },
  {
   "cell_type": "markdown",
   "id": "41695c9c",
   "metadata": {},
   "source": [
    "Non-spatial PCs are not sorted by Moran's I; PC5 has surprising large Moran's I. "
   ]
  },
  {
   "cell_type": "code",
   "execution_count": null,
   "id": "03a5d3bd",
   "metadata": {},
   "outputs": [],
   "source": [
    "spatialReducedDim(sfe, \"PCA\", component = 5, colGeometryName = \"cellSeg\", \n",
    "                  divergent = TRUE, diverge_center = 0, bbox = bbox_use)"
   ]
  },
  {
   "cell_type": "markdown",
   "id": "4c690e85",
   "metadata": {},
   "source": [
    "PC5 must be about zonation. Also show a larger scale:"
   ]
  },
  {
   "cell_type": "code",
   "execution_count": null,
   "id": "3b324ff0",
   "metadata": {},
   "outputs": [],
   "source": [
    "spatialReducedDim(sfe, \"PCA\", components = 5, colGeometryName = \"centroids\", \n",
    "                  divergent = TRUE, diverge_center = 0, scattermore = TRUE)"
   ]
  },
  {
   "cell_type": "markdown",
   "id": "bf8a349f",
   "metadata": {
    "lines_to_next_cell": 0
   },
   "source": [
    "## Moran scatter plot\n",
    "Local positive and negative spatial autocorrelation can average out in global Moran's I. From the zoomed in plots and gene loadings above, some PCs are about endothelial cells. The Moran scatter plot can help discovering more local heterogeneity."
   ]
  },
  {
   "cell_type": "code",
   "execution_count": null,
   "id": "68b0112b",
   "metadata": {},
   "outputs": [],
   "source": [
    "sfe <- reducedDimUnivariate(sfe, \"moran.plot\", dimred = \"PCA\", components = 1:6)"
   ]
  },
  {
   "cell_type": "code",
   "execution_count": null,
   "id": "3ea3f8bf",
   "metadata": {},
   "outputs": [],
   "source": [
    "plts <- lapply(seq_len(6), function(i) {\n",
    "    moranPlot(sfe, paste0(\"PC\", i), binned = TRUE, hex = TRUE, plot_influential = FALSE)\n",
    "})"
   ]
  },
  {
   "cell_type": "code",
   "execution_count": null,
   "id": "cf58b913",
   "metadata": {
    "fig.height": 6,
    "fig.width": 10
   },
   "outputs": [],
   "source": [
    "wrap_plots(plts, widths = 1, heights = 1) +\n",
    "    plot_layout(ncol = 3) +\n",
    "    plot_annotation(tag_levels = \"1\", \n",
    "                    title = \"Moran scatter plot for non-spatial PCs\") &\n",
    "    theme(legend.position = \"none\")"
   ]
  },
  {
   "cell_type": "markdown",
   "id": "eb37f86f",
   "metadata": {},
   "source": [
    "PCs 1-3 have some fainter clusters outside the main cluster, indicating heterogeneous spatial autocorrelation. Also make Moran scatter plots for MULTISPATI"
   ]
  },
  {
   "cell_type": "code",
   "execution_count": null,
   "id": "ae26af3a",
   "metadata": {},
   "outputs": [],
   "source": [
    "sfe <- reducedDimUnivariate(sfe, \"moran.plot\", dimred = \"multispati\", \n",
    "                            components = c(1:5, 40), \n",
    "                            # Not to overwrite non-spatial PCA moran plots\n",
    "                            name = \"moran.plot2\") "
   ]
  },
  {
   "cell_type": "code",
   "execution_count": null,
   "id": "6e7e992a",
   "metadata": {},
   "outputs": [],
   "source": [
    "plts2 <- lapply(c(1:5, 40), function(i) {\n",
    "    moranPlot(sfe, paste0(\"PC\", i), binned = TRUE, hex = TRUE, \n",
    "              plot_influential = FALSE, name = \"moran.plot2\")\n",
    "})"
   ]
  },
  {
   "cell_type": "code",
   "execution_count": null,
   "id": "dd16bd41",
   "metadata": {
    "fig.height": 6,
    "fig.width": 10
   },
   "outputs": [],
   "source": [
    "wrap_plots(plts2, widths = 1, heights = 1) +\n",
    "    plot_layout(ncol = 3) +\n",
    "    plot_annotation(tag_levels = \"1\",\n",
    "                    title = \"Moran scatter plot for MULTISPATI PCs\") &\n",
    "    theme(legend.position = \"none\")"
   ]
  },
  {
   "cell_type": "markdown",
   "id": "4950dc9c",
   "metadata": {},
   "source": [
    "There are some interesting clusters.\n",
    "\n",
    "# Clustering with MULTISPATI PCA\n",
    "\n",
    "In the standard scRNA-seq data analysis workflow, a k nearest neighbor graph is found in the PCA space, which is then used for graph based clustering such as Louvain and Leiden, which is used to perform differential expression. Spatial dimension reductions can similarly be used to perform clustering, to identify spatial regions in the tissue, as done in [@Shang2022-wq; @Ren2022-xt; @Zhang2023-mm]. This type of studies often use a manual segmentation as ground truth to compare different methods that identify spatial regions. \n",
    "\n",
    "The problem with this is that spatial region methods are meant to help us to identify novel spatial regions based on new -omics data, which might reveal what's previously unknown from manual annotations. If the output from a method doesn't match manual annotations, it might simply be pointing out a previously unknown aspect of the tissue rather than wrong. Depending on the questions being asked, there can simultaneously be multiple spatial partitions. This happens in geographical space. For instance, there's land use and neighborhood boundaries, but equally valid are watershed boundaries and types of rock formation. Which one is relevant depends on the questions asked.\n",
    "\n",
    "Here we perform Leiden clustering with non-spatial and MULTISPATI PCA and compare the results. For the k nearest neighbor graph, I used the default k = 10."
   ]
  },
  {
   "cell_type": "code",
   "execution_count": null,
   "id": "ae62a2e8",
   "metadata": {},
   "outputs": [],
   "source": [
    "system.time({\n",
    "    set.seed(29)\n",
    "    sfe$clusts_nonspatial <- clusterCells(sfe, use.dimred = \"PCA\", \n",
    "                                          BLUSPARAM = NNGraphParam(\n",
    "                                              cluster.fun = \"leiden\",\n",
    "                                              cluster.args = list(\n",
    "                                                  objective_function = \"modularity\",\n",
    "                                                  resolution_parameter = 1\n",
    "                                              )\n",
    "                                          ))\n",
    "})"
   ]
  },
  {
   "cell_type": "markdown",
   "id": "a3fa82d3",
   "metadata": {
    "lines_to_next_cell": 0
   },
   "source": [
    "See if clustering with the positive MULTISPATI PCs give more spatially coherent clusters"
   ]
  },
  {
   "cell_type": "code",
   "execution_count": null,
   "id": "bede95b8",
   "metadata": {},
   "outputs": [],
   "source": [
    "system.time({\n",
    "    set.seed(29)\n",
    "    sfe$clusts_multispati <- clusterRows(reducedDim(sfe, \"multispati\")[,1:20], \n",
    "                                          BLUSPARAM = NNGraphParam(\n",
    "                                              cluster.fun = \"leiden\",\n",
    "                                              cluster.args = list(\n",
    "                                                  objective_function = \"modularity\",\n",
    "                                                  resolution_parameter = 1\n",
    "                                              )\n",
    "                                          ))\n",
    "})"
   ]
  },
  {
   "cell_type": "markdown",
   "id": "b402c4cf",
   "metadata": {
    "lines_to_next_cell": 0
   },
   "source": [
    "Plot the clusters in space:"
   ]
  },
  {
   "cell_type": "code",
   "execution_count": null,
   "id": "861fe348",
   "metadata": {
    "fig.height": 4,
    "fig.width": 11
   },
   "outputs": [],
   "source": [
    "plotSpatialFeature(sfe, c(\"clusts_nonspatial\", \"clusts_multispati\"), \n",
    "                   colGeometryName = \"centroids\",\n",
    "                   scattermore = TRUE) &\n",
    "     guides(colour = guide_legend(override.aes = list(size=2), ncol = 2))"
   ]
  },
  {
   "cell_type": "markdown",
   "id": "c034f0f4",
   "metadata": {
    "lines_to_next_cell": 0
   },
   "source": [
    "The MULTISPATI clusters do look somewhat more spatially structured than clusters from non-spatial PCA. Also zoom into a small area:"
   ]
  },
  {
   "cell_type": "code",
   "execution_count": null,
   "id": "34fed5ef",
   "metadata": {
    "fig.height": 4,
    "fig.width": 11
   },
   "outputs": [],
   "source": [
    "plotSpatialFeature(sfe, c(\"clusts_nonspatial\", \"clusts_multispati\"), \n",
    "                   colGeometryName = \"cellSeg\",\n",
    "                   bbox = bbox_use) &\n",
    "     guides(fill = guide_legend(ncol = 2))"
   ]
  },
  {
   "cell_type": "markdown",
   "id": "7239000e",
   "metadata": {
    "lines_to_next_cell": 0
   },
   "source": [
    "What do these clusters mean? Clusters are supposed to be groups of different spots that are more similar within a group, sharing some characteristics. Non-spatial and MULTISPATI PCA use different characteristics for the clustering. Non-spatial PCA finds genes that are good for telling cell types apart, although those genes may happen to be very spatially structured. Non-spatial clustering aims to find these groups only from gene expression, and cells with similar gene expression can be surrounded by cells of other types in histological space. This is just like mapping Art Deco buildings, which are often near Spanish revival and Beaux Art buildings whose styles are quite different and perform different functions, thus not necessarily forming a coherent spatial region. \n",
    "\n",
    "In contrast, MULTISPATI's positive components find genes that must characterize spatial regions in addition to distinguishing between different cell types. Which genes are involved in each MULTISPATI component may be as interesting as the clusters. It would be interesting to perform gene set enrichment analysis, or to interpret this as some sort of spatial patterns of spatially variable genes. This is like mapping when the buildings were built, so Art Deco, Spanish revival, Beaux Art popular in the 1920s and 1930s will end up in the same cluster and form a more spatially coherent region, which can be found in DTLA Historical Core and Jewelry District, and Old Pasadena. Hence non-spatial clustering of spatial data isn't necessarily bad. Rather, it tells a different story and reveals different aspects of the data from spatial clustering. \n",
    "\n",
    "# Session Info"
   ]
  },
  {
   "cell_type": "code",
   "execution_count": null,
   "id": "ed793df2",
   "metadata": {},
   "outputs": [],
   "source": [
    "sessionInfo()"
   ]
  },
  {
   "cell_type": "markdown",
   "id": "207bfe04",
   "metadata": {},
   "source": [
    "# References"
   ]
  }
 ],
 "metadata": {
  "kernelspec": {
   "display_name": "R",
   "language": "R",
   "name": "ir"
  }
 },
 "nbformat": 4,
 "nbformat_minor": 5
}
