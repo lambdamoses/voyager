{
 "cells": [
  {
   "cell_type": "raw",
   "id": "4a038575",
   "metadata": {},
   "source": [
    "---\n",
    "title: \"Variogram\"\n",
    "author: \"Lambda Moses\"\n",
    "date: \"`r Sys.Date()`\"\n",
    "output: \n",
    "  html_document:\n",
    "  toc: true\n",
    "  toc_float:\n",
    "    collapsed: false\n",
    "  toc_depth: 3\n",
    "bibliography: ref.bib\n",
    "vignette: >\n",
    "  %\\VignetteIndexEntry{variogram}\n",
    "  %\\VignetteEngine{knitr::rmarkdown}\n",
    "  %\\VignetteEncoding{UTF-8}\n",
    "---"
   ]
  },
  {
   "cell_type": "code",
   "execution_count": null,
   "id": "ca6cc678",
   "metadata": {
    "tags": [
     "remove_cell"
    ]
   },
   "outputs": [],
   "source": [
    "knitr::opts_chunk$set(\n",
    "  collapse = TRUE,\n",
    "  comment = \"#>\"\n",
    ")"
   ]
  },
  {
   "cell_type": "code",
   "execution_count": null,
   "id": "e4f57d1c",
   "metadata": {
    "eval": false,
    "tags": [
     "remove_cell"
    ]
   },
   "outputs": [],
   "source": [
    "# Install Google Colab dependencies\n",
    "# Note: this can take 30+ minutes (many of the dependencies include C++ code, which needs to be compiled)\n",
    "\n",
    "# First install `sf`, `ragg` and `textshaping` and their system dependencies:\n",
    "system(\"apt-get -y update && apt-get install -y  libudunits2-dev libgdal-dev libgeos-dev libproj-dev libharfbuzz-dev libfribidi-dev\")\n",
    "install.packages(\"sf\")\n",
    "install.packages(\"textshaping\")\n",
    "install.packages(\"ragg\")\n",
    "\n",
    "# Install system dependencies of some other R packages that Voyager either imports or suggests:\n",
    "system(\"apt-get install -y libfribidi-dev libcairo2-dev libmagick++-dev\")\n",
    "\n",
    "# Install Voyager from Bioconductor:\n",
    "install.packages(\"BiocManager\")\n",
    "BiocManager::install(version = \"release\", ask = FALSE, update = FALSE, Ncpus = 2)\n",
    "BiocManager::install(\"scater\")\n",
    "system.time(\n",
    "  BiocManager::install(\"Voyager\", dependencies = TRUE, Ncpus = 2, update = FALSE)\n",
    ")\n",
    "\n",
    "# Other packages used in this vignette\n",
    "packageVersion(\"Voyager\")"
   ]
  },
  {
   "cell_type": "markdown",
   "id": "87cd1238",
   "metadata": {
    "lines_to_next_cell": 0
   },
   "source": [
    "# Introduction\n",
    "In geostatistical data, an underlying spatial process is sampled at known locations. Kriging uses a Gaussian process model to interpolate the values between the sample locations, and the semivariogram is used to model the spatial dependency between the locations as the covariance of the Gaussian process. When not kriging, the semivariogram can be used as an exploratory data analysis tool to find the length scale and anisotropy of spatial autocorrelation. The semivariogram is defined as\n",
    "\n",
    "$$\n",
    "\\gamma(t) = \\frac 1 2 \\mathrm{Var}(X_t - X_0),\n",
    "$$\n",
    "\n",
    "where $X$ is the value such as gene expression, and $t$ is a spatial vector. $X_0$ is the value at a location of interest, and $X_t$ is the value lagged by $t$. With positive spatial autocorrelation, the variance would be smaller among nearby values, so the variogram would increase with distance, eventually leveling off when the distance is beyond the length scale of spatial autocorrelation. The \"semi\" comes from the 1/2, which comes from the assumption that the Gaussian process is weakly stationary, i.e. the covariance between two locations only depends on the spatial lag between them:\n",
    "\n",
    "$$\\begin{align}\n",
    "\\mathrm{Var}(X_{t_2} - X_{t_1}) &= \\mathrm{Var}(X_{t_2}) + \\mathrm{Var}(X_{t_1}) - 2\\mathrm{Cov}(X_{t_2}, X_{t_1}) \\\\\n",
    "&= 2\\rho(0) - 2\\rho(t_2 - t_1),\n",
    "\\end{align}$$\n",
    "\n",
    "where $\\rho$ is a covariance function and $t_1$ and $t_2$ are spatial locations. A model can be fitted to the empirical semivariogram, to model this $\\rho$. That the variance of differences between the value across locations only depends on the spatial lag means intrinsically stationary, which is even weaker and more generalizable than weakly stationary. The weaker assumption is used in kriging.\n",
    "\n",
    "This vignette demonstrates the variogram as an ESDA tool, including interpretation of the univariate variogram, anisotropic variograms (variograms in different directions), variogram maps, and bivariate cross variograms.\n",
    "\n",
    "Here we load the packages:"
   ]
  },
  {
   "cell_type": "code",
   "execution_count": null,
   "id": "57c87ede",
   "metadata": {
    "message": false
   },
   "outputs": [],
   "source": [
    "library(Voyager)\n",
    "library(SFEData)\n",
    "library(SpatialFeatureExperiment)\n",
    "library(scater)\n",
    "library(scran)\n",
    "library(ggplot2)\n",
    "library(BiocParallel)\n",
    "library(bluster)\n",
    "library(dplyr)\n",
    "theme_set(theme_bw())"
   ]
  },
  {
   "cell_type": "markdown",
   "id": "1132cc8c",
   "metadata": {
    "lines_to_next_cell": 0
   },
   "source": [
    "The Slide-seq melanoma metastasis data [@Biermann2022-hl] is used for demonstration. QC is performed in [another vignette](https://pachterlab.github.io/voyager/articles/vig3_slideseq_v2.html)."
   ]
  },
  {
   "cell_type": "code",
   "execution_count": null,
   "id": "e83e5b00",
   "metadata": {},
   "outputs": [],
   "source": [
    "(sfe <- BiermannMelaMetasData(dataset = \"MBM05_rep1\"))"
   ]
  },
  {
   "cell_type": "code",
   "execution_count": null,
   "id": "00a9d0b7",
   "metadata": {},
   "outputs": [],
   "source": [
    "sfe <- sfe[, colData(sfe)$prop_mito < 0.1]\n",
    "sfe <- sfe[rowSums(counts(sfe)) > 0,]"
   ]
  },
  {
   "cell_type": "code",
   "execution_count": null,
   "id": "7832a80c",
   "metadata": {},
   "outputs": [],
   "source": [
    "sfe <- logNormCounts(sfe)"
   ]
  },
  {
   "cell_type": "markdown",
   "id": "d8d48e4a",
   "metadata": {
    "lines_to_next_cell": 0
   },
   "source": [
    "Variograms will be demonstrated on some of the top highly variable genes (HVGs)"
   ]
  },
  {
   "cell_type": "code",
   "execution_count": null,
   "id": "e30c5cb0",
   "metadata": {},
   "outputs": [],
   "source": [
    "dec <- modelGeneVar(sfe)\n",
    "hvgs <- getTopHVGs(dec, n = 50)"
   ]
  },
  {
   "cell_type": "markdown",
   "id": "b2eba24c",
   "metadata": {},
   "source": [
    "# Variogram\n",
    "The same user interface used to run Moran's I can be used to compute variograms. However, since the variogram uses spatial distances instead of spatial neighborhood graph, the `colGraph` does not need to be specified. Instead, a `colGeometry` can be specified, and if the geometry is not `POINT`, then `spatialCoords(sfe)` will be used to compute the distances. Behind the scene, the [`automap`](https://github.com/cran/automap/tree/master) package is used, which fits a number of different variogram models to the empirical variogram and chooses one that fits the best. The `automap` package is a user friendly wrapper of `gstat`, a time honored package for geostatistics."
   ]
  },
  {
   "cell_type": "code",
   "execution_count": null,
   "id": "1b2c6b04",
   "metadata": {},
   "outputs": [],
   "source": [
    "sfe <- runUnivariate(sfe, \"variogram\", hvgs, BPPARAM = SnowParam(2),\n",
    "                     model = \"Ste\")"
   ]
  },
  {
   "cell_type": "code",
   "execution_count": null,
   "id": "927927ea",
   "metadata": {},
   "outputs": [],
   "source": [
    "plotVariogram(sfe, hvgs[1:4], name = \"variogram\")"
   ]
  },
  {
   "cell_type": "markdown",
   "id": "6343461b",
   "metadata": {},
   "source": [
    "The data is binned by distance between spots and the variance is computed for each bin. While `gstat`'s plotting functions say \"semivariance\", because the data is scaled so the variance is 1, I do think the variance rather than semivariance is plotted. The numbers by the points in the plot indicate the number of pairs of spots in each bin. \"Ste\" means the Matern model with M. Stein's parameterization was fitted to the points. \n",
    "\n",
    "Nugget is the variance at distance 0, or variance within the first distance bin. The data is scaled by default prior to variogram computation to make the variograms for multiple genes comparable. \n",
    "\n",
    "Spatial autocorrelation makes the variance smaller at shorter distances. When the variogram levels off, it means that spatial autocorrelation no longer has an effect at this distance. Sill is the variance where the variogram levels off. Range is the distance where the variogram levels off. \n",
    "\n",
    "In the first 4 genes, IGHG3 and IGKC seem to have stronger spatial autocorrelation that dissipate in 100 to 200 units (whether it's microns or pixels is unclear from the publication), whereas spatial autocorrelation of B2M and MT-RNR1 is much weaker and has longer length scale. \n",
    "\n",
    "Here the genes are plotted in space:"
   ]
  },
  {
   "cell_type": "code",
   "execution_count": null,
   "id": "82943226",
   "metadata": {
    "fig.height": 6,
    "fig.width": 9
   },
   "outputs": [],
   "source": [
    "plotSpatialFeature(sfe, hvgs[1:4], size = 0.3) & \n",
    "    theme_bw() # To show the length units"
   ]
  },
  {
   "cell_type": "markdown",
   "id": "b4833a1f",
   "metadata": {
    "lines_to_next_cell": 0
   },
   "source": [
    "The length scales of spatial autocorrelation for these genes are quite obvious from just plotting the genes. Then what's the point of plotting variograms for ESDA? We can also compute variograms for a larger number of genes and cluster the variograms for patterns in spatial autocorrelation length scales, or compare variograms of the same genes across different samples. Here we cluster the variograms for top highly variable genes (HVGs):\n",
    "\n",
    "The `BLUSPARAM` argument is used to specify methods of clustering, as implemented in the `bluster` package. Here we use hierarchical clustering."
   ]
  },
  {
   "cell_type": "code",
   "execution_count": null,
   "id": "dedbc2ed",
   "metadata": {},
   "outputs": [],
   "source": [
    "clusts <- clusterVariograms(sfe, hvgs, BLUSPARAM = HclustParam())"
   ]
  },
  {
   "cell_type": "markdown",
   "id": "9de3c7f8",
   "metadata": {
    "lines_to_next_cell": 0
   },
   "source": [
    "Then plot the clusters:"
   ]
  },
  {
   "cell_type": "code",
   "execution_count": null,
   "id": "0903c198",
   "metadata": {},
   "outputs": [],
   "source": [
    "plotVariogram(sfe, hvgs, color_by = clusts, group = \"feature\", use_lty = FALSE,\n",
    "              show_np = FALSE)"
   ]
  },
  {
   "cell_type": "markdown",
   "id": "463b4000",
   "metadata": {
    "lines_to_next_cell": 0
   },
   "source": [
    "It seems that there are many genes, like MT-RNR1, with weak spatial autocorrelation over longer length scales, genes with stronger and shorter range spatial autocorrelation (around 150 to 200 units) like IGKC, and genes with somewhat longer length scale of spatial autocorrelation (around 400 units).\n",
    "\n",
    "Plot one gene from each cluster in space:"
   ]
  },
  {
   "cell_type": "code",
   "execution_count": null,
   "id": "045909de",
   "metadata": {},
   "outputs": [],
   "source": [
    "genes_clusts <- clusts |> \n",
    "    group_by(cluster) |> \n",
    "    slice_head(n = 1) |> \n",
    "    pull(feature)"
   ]
  },
  {
   "cell_type": "code",
   "execution_count": null,
   "id": "6d07b49f",
   "metadata": {
    "fig.height": 6,
    "fig.width": 10
   },
   "outputs": [],
   "source": [
    "plotSpatialFeature(sfe, genes_clusts, size = 0.3)"
   ]
  },
  {
   "cell_type": "markdown",
   "id": "f74c1814",
   "metadata": {},
   "source": [
    "MT-RNR1 is more widely expressed. IGKC and ICHC3 are restricted to smaller areas, and IGHM is restricted to even smaller areas. Note that genes with variograms in the same cluster don't have to be co-expressed; they only need to have similar length scales and strengths of spatial autocorrelation.\n",
    "\n",
    "# Anisotropy\n",
    "Anisotropy means different in different directions. An example is the cerebral cortex, which has a layered structure. The variogram can be computed in different directions.\n",
    "\n",
    "## Anisotropic variogram\n",
    "The directions on which to compute variograms can be explicitly specified, in the `alpha` argument. However, since `gstat` does not fit anisotropic variograms, the model is fitted to all directions and the empirical variograms at each angle are plotted separately. Here we compute anisotropic variograms for the 4 genes above:"
   ]
  },
  {
   "cell_type": "code",
   "execution_count": null,
   "id": "1447609c",
   "metadata": {},
   "outputs": [],
   "source": [
    "sfe <- runUnivariate(sfe, \"variogram\", genes_clusts, alpha = c(0, 45, 90, 135),\n",
    "                     # To not to overwrite omnidirectional variogram results\n",
    "                     name = \"variogram_anis\", model = \"Ste\", \n",
    "                     BPPARAM = SnowParam(2))"
   ]
  },
  {
   "cell_type": "code",
   "execution_count": null,
   "id": "941eba45",
   "metadata": {},
   "outputs": [],
   "source": [
    "plotVariogram(sfe, genes_clusts, group = \"angle\", name = \"variogram_anis\",\n",
    "              show_np = FALSE)"
   ]
  },
  {
   "cell_type": "markdown",
   "id": "d92f7e1b",
   "metadata": {},
   "source": [
    "Here the line is the variogram model fitted to all directions and the text describes this model. The points show the angles in different colors. Zero degree points north (up), and the angles go clockwise.\n",
    "\n",
    "## Variogram map\n",
    "\n",
    "The variogram map is another way to visualize spatial autocorrelation in different directions. It bins distances in x and distances in y, so we have a grid of distances where the variance is computed. Just like the variograms above, the origin usually has a low value, because spatial autocorrelation reduces the variance in a short distance, and the values increase with increasing distance from the origin, but it can increase more quickly in some directions than others. Here to compute variogram maps for the 4 genes above:"
   ]
  },
  {
   "cell_type": "code",
   "execution_count": null,
   "id": "1c9140cf",
   "metadata": {},
   "outputs": [],
   "source": [
    "sfe <- runUnivariate(sfe, \"variogram_map\", genes_clusts, width = 100, \n",
    "                     cutoff = 800, BPPARAM = SnowParam(2), name = \"variogram_map2\")"
   ]
  },
  {
   "cell_type": "markdown",
   "id": "8e24147c",
   "metadata": {},
   "source": [
    "The `width` argument is the width of the bins, and `cutoff` is the maximum distance."
   ]
  },
  {
   "cell_type": "code",
   "execution_count": null,
   "id": "70947469",
   "metadata": {},
   "outputs": [],
   "source": [
    "plotVariogramMap(sfe, genes_clusts, name = \"variogram_map2\")"
   ]
  },
  {
   "cell_type": "markdown",
   "id": "5e91532d",
   "metadata": {},
   "source": [
    "# Cross variogram\n",
    "The cross variogram is used in cokriging, which uses multiple variables in the spatial interpolation model. The cross variogram is defined as\n",
    "\n",
    "$$\n",
    "\\gamma(t) = \\frac 1 2 \\mathrm{Cov}(X_t - X_0, Y_t - Y_0),\n",
    "$$\n",
    "\n",
    "where $Y$ is another variable. The cross variogram also has nugget, sill, and range. It shows how the covariance between two variables changes with distance. `Voyager` supports multiple bivariate spatial methods, and the cross variogram is one of them. Just like for univariate spatial methods, `Voyager` provides a uniform user interface for bivariate methods. However, bivariate local methods can't be stored in the SFE object at present because they tend to have very different formats in outputs (e.g. a correlation matrix for Lee's L and a list for most other methods) some of which may not be straightforward to store in the SFE object."
   ]
  },
  {
   "cell_type": "code",
   "execution_count": null,
   "id": "6af84857",
   "metadata": {},
   "outputs": [],
   "source": [
    "cross_v <- calculateBivariate(sfe, \"cross_variogram\", \n",
    "                              feature1 = \"IGKC\", feature2 = \"IGHG3\")"
   ]
  },
  {
   "cell_type": "code",
   "execution_count": null,
   "id": "3339bc53",
   "metadata": {},
   "outputs": [],
   "source": [
    "plotCrossVariogram(cross_v, show_np = FALSE)"
   ]
  },
  {
   "cell_type": "markdown",
   "id": "09cdfe08",
   "metadata": {
    "lines_to_next_cell": 0
   },
   "source": [
    "The facets are shown in a matrix, whose diagonal is the variogram for each gene, and off diagonal entries are cross variograms. Here for IGKC and IGHG3, the length scale of the covariance is similar to that of spatial autocorrelation. \n",
    "\n",
    "There is also a cross variogram map to show the cross variogram in different directions:"
   ]
  },
  {
   "cell_type": "code",
   "execution_count": null,
   "id": "e2a47446",
   "metadata": {},
   "outputs": [],
   "source": [
    "cross_v_map <- calculateBivariate(sfe, \"cross_variogram_map\",\n",
    "                                  feature1 = \"IGKC\", feature2 = \"IGHG3\",\n",
    "                                  width = 100, cutoff = 800)"
   ]
  },
  {
   "cell_type": "code",
   "execution_count": null,
   "id": "af91a157",
   "metadata": {},
   "outputs": [],
   "source": [
    "plotCrossVariogramMap(cross_v_map)"
   ]
  },
  {
   "cell_type": "markdown",
   "id": "47509477",
   "metadata": {
    "lines_to_next_cell": 0
   },
   "source": [
    "# Session Info"
   ]
  },
  {
   "cell_type": "code",
   "execution_count": null,
   "id": "e5d5fc9e",
   "metadata": {
    "lines_to_next_cell": 2
   },
   "outputs": [],
   "source": [
    "sessionInfo()"
   ]
  },
  {
   "cell_type": "markdown",
   "id": "d4d0de35",
   "metadata": {},
   "source": [
    "# References"
   ]
  }
 ],
 "metadata": {
  "kernelspec": {
   "display_name": "R",
   "language": "R",
   "name": "ir"
  }
 },
 "nbformat": 4,
 "nbformat_minor": 5
}
